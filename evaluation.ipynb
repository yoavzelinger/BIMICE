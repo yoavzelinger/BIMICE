{
 "cells": [
  {
   "cell_type": "markdown",
   "metadata": {},
   "source": [
    "# Improving MICE for Data Imputation: A Methodological and Practical Exploration"
   ]
  },
  {
   "cell_type": "markdown",
   "metadata": {},
   "source": [
    "## Evaluation\n",
    "Comparing the performance of the our model to impute missing values.\n",
    "Our model is compared with the following models:\n",
    "1. MICE - Multiple Imputation by Chained Equations (The original model we're trying to improve).\n",
    "2. KNNI - K-Nearest Neighbors Imputation.\n",
    "3. SICE - Single Imputation with Chained Equations.\n",
    "\n",
    "For ablation study, we compared several versions of our improvements:\n",
    "1. Ordered only - MICE where the imputation order is computed using the Bayesian Network structure.\n",
    "2. correlated variables in regression only - MICE where only the correlated variables are used as features to the linear regression. "
   ]
  },
  {
   "cell_type": "markdown",
   "metadata": {},
   "source": [
    "### STEP 0 - Imports and constants"
   ]
  },
  {
   "cell_type": "code",
   "execution_count": 1,
   "metadata": {},
   "outputs": [],
   "source": [
    "# General\n",
    "import numpy as np\n",
    "import pandas as pd\n",
    "from datetime import datetime\n",
    "\n",
    "# Models\n",
    "from reparo import \\\n",
    "    MICE, \\\n",
    "    SICE, \\\n",
    "    KNNImputer\n",
    "\n",
    "# Metrics\n",
    "from sklearn.metrics import root_mean_squared_error as RMSE, \\\n",
    "    mean_squared_error as MSE, \\\n",
    "    mean_absolute_error as MAE\n",
    "\n",
    "# Utils\n",
    "from missing_values_injections import inject_missing_values\n",
    "\n",
    "# Constants\n",
    "DATA_FOLDER = \"data/\"\n",
    "FRAMINGHAM = {\"name\": \"framingham.csv\",\n",
    "              \"numeric_columns\": [\"age\", \"education\", \"cigsPerDay\", \"BPMeds\", \"totChol\", \"sysBP\", \"diaBP\", \"heartRate\", \"glucose\"], # TODO - check about education\n",
    "              }\n",
    "\n",
    "metrics_dict = {\n",
    "    \"RMSE\": RMSE,\n",
    "    \"MSE\": MSE,\n",
    "    \"MAE\": MAE\n",
    "}\n",
    "\n",
    "models_dict = {\n",
    "    # \"OrdereredMICE\": OrderedMICE,\n",
    "    # \"CorrelatedMICE\": CorrelatedMICE,\n",
    "    # \"OrderedCorrelatedMICE\": OrderedCorrelatedMICE,\n",
    "    \"MICE\": MICE,\n",
    "    \"SICE\": SICE,\n",
    "    \"KNN\": KNNImputer\n",
    "}"
   ]
  },
  {
   "cell_type": "markdown",
   "metadata": {},
   "source": [
    "### STEP 1 - Load data"
   ]
  },
  {
   "cell_type": "code",
   "execution_count": 2,
   "metadata": {},
   "outputs": [],
   "source": [
    "framingham_df = pd.read_csv(DATA_FOLDER + FRAMINGHAM[\"name\"])"
   ]
  },
  {
   "cell_type": "code",
   "execution_count": 3,
   "metadata": {},
   "outputs": [
    {
     "name": "stdout",
     "output_type": "stream",
     "text": [
      "(4240, 16)\n"
     ]
    },
    {
     "data": {
      "text/html": [
       "<div>\n",
       "<style scoped>\n",
       "    .dataframe tbody tr th:only-of-type {\n",
       "        vertical-align: middle;\n",
       "    }\n",
       "\n",
       "    .dataframe tbody tr th {\n",
       "        vertical-align: top;\n",
       "    }\n",
       "\n",
       "    .dataframe thead th {\n",
       "        text-align: right;\n",
       "    }\n",
       "</style>\n",
       "<table border=\"1\" class=\"dataframe\">\n",
       "  <thead>\n",
       "    <tr style=\"text-align: right;\">\n",
       "      <th></th>\n",
       "      <th>male</th>\n",
       "      <th>age</th>\n",
       "      <th>education</th>\n",
       "      <th>currentSmoker</th>\n",
       "      <th>cigsPerDay</th>\n",
       "      <th>BPMeds</th>\n",
       "      <th>prevalentStroke</th>\n",
       "      <th>prevalentHyp</th>\n",
       "      <th>diabetes</th>\n",
       "      <th>totChol</th>\n",
       "      <th>sysBP</th>\n",
       "      <th>diaBP</th>\n",
       "      <th>BMI</th>\n",
       "      <th>heartRate</th>\n",
       "      <th>glucose</th>\n",
       "      <th>TenYearCHD</th>\n",
       "    </tr>\n",
       "  </thead>\n",
       "  <tbody>\n",
       "    <tr>\n",
       "      <th>0</th>\n",
       "      <td>1</td>\n",
       "      <td>39</td>\n",
       "      <td>4.0</td>\n",
       "      <td>0</td>\n",
       "      <td>0.0</td>\n",
       "      <td>0.0</td>\n",
       "      <td>0</td>\n",
       "      <td>0</td>\n",
       "      <td>0</td>\n",
       "      <td>195.0</td>\n",
       "      <td>106.0</td>\n",
       "      <td>70.0</td>\n",
       "      <td>26.97</td>\n",
       "      <td>80.0</td>\n",
       "      <td>77.0</td>\n",
       "      <td>0</td>\n",
       "    </tr>\n",
       "    <tr>\n",
       "      <th>1</th>\n",
       "      <td>0</td>\n",
       "      <td>46</td>\n",
       "      <td>2.0</td>\n",
       "      <td>0</td>\n",
       "      <td>0.0</td>\n",
       "      <td>0.0</td>\n",
       "      <td>0</td>\n",
       "      <td>0</td>\n",
       "      <td>0</td>\n",
       "      <td>250.0</td>\n",
       "      <td>121.0</td>\n",
       "      <td>81.0</td>\n",
       "      <td>28.73</td>\n",
       "      <td>95.0</td>\n",
       "      <td>76.0</td>\n",
       "      <td>0</td>\n",
       "    </tr>\n",
       "    <tr>\n",
       "      <th>2</th>\n",
       "      <td>1</td>\n",
       "      <td>48</td>\n",
       "      <td>1.0</td>\n",
       "      <td>1</td>\n",
       "      <td>20.0</td>\n",
       "      <td>0.0</td>\n",
       "      <td>0</td>\n",
       "      <td>0</td>\n",
       "      <td>0</td>\n",
       "      <td>245.0</td>\n",
       "      <td>127.5</td>\n",
       "      <td>80.0</td>\n",
       "      <td>25.34</td>\n",
       "      <td>75.0</td>\n",
       "      <td>70.0</td>\n",
       "      <td>0</td>\n",
       "    </tr>\n",
       "    <tr>\n",
       "      <th>3</th>\n",
       "      <td>0</td>\n",
       "      <td>61</td>\n",
       "      <td>3.0</td>\n",
       "      <td>1</td>\n",
       "      <td>30.0</td>\n",
       "      <td>0.0</td>\n",
       "      <td>0</td>\n",
       "      <td>1</td>\n",
       "      <td>0</td>\n",
       "      <td>225.0</td>\n",
       "      <td>150.0</td>\n",
       "      <td>95.0</td>\n",
       "      <td>28.58</td>\n",
       "      <td>65.0</td>\n",
       "      <td>103.0</td>\n",
       "      <td>1</td>\n",
       "    </tr>\n",
       "    <tr>\n",
       "      <th>4</th>\n",
       "      <td>0</td>\n",
       "      <td>46</td>\n",
       "      <td>3.0</td>\n",
       "      <td>1</td>\n",
       "      <td>23.0</td>\n",
       "      <td>0.0</td>\n",
       "      <td>0</td>\n",
       "      <td>0</td>\n",
       "      <td>0</td>\n",
       "      <td>285.0</td>\n",
       "      <td>130.0</td>\n",
       "      <td>84.0</td>\n",
       "      <td>23.10</td>\n",
       "      <td>85.0</td>\n",
       "      <td>85.0</td>\n",
       "      <td>0</td>\n",
       "    </tr>\n",
       "  </tbody>\n",
       "</table>\n",
       "</div>"
      ],
      "text/plain": [
       "   male  age  education  currentSmoker  cigsPerDay  BPMeds  prevalentStroke  \\\n",
       "0     1   39        4.0              0         0.0     0.0                0   \n",
       "1     0   46        2.0              0         0.0     0.0                0   \n",
       "2     1   48        1.0              1        20.0     0.0                0   \n",
       "3     0   61        3.0              1        30.0     0.0                0   \n",
       "4     0   46        3.0              1        23.0     0.0                0   \n",
       "\n",
       "   prevalentHyp  diabetes  totChol  sysBP  diaBP    BMI  heartRate  glucose  \\\n",
       "0             0         0    195.0  106.0   70.0  26.97       80.0     77.0   \n",
       "1             0         0    250.0  121.0   81.0  28.73       95.0     76.0   \n",
       "2             0         0    245.0  127.5   80.0  25.34       75.0     70.0   \n",
       "3             1         0    225.0  150.0   95.0  28.58       65.0    103.0   \n",
       "4             0         0    285.0  130.0   84.0  23.10       85.0     85.0   \n",
       "\n",
       "   TenYearCHD  \n",
       "0           0  \n",
       "1           0  \n",
       "2           0  \n",
       "3           1  \n",
       "4           0  "
      ]
     },
     "execution_count": 3,
     "metadata": {},
     "output_type": "execute_result"
    }
   ],
   "source": [
    "print(framingham_df.shape)\n",
    "framingham_df.head()"
   ]
  },
  {
   "cell_type": "markdown",
   "metadata": {},
   "source": [
    "### STEP 2 - Remove not relevant rows and columns\n",
    "- Remove rows with missing values.\n",
    "- Remove columns with non-numeric features."
   ]
  },
  {
   "cell_type": "code",
   "execution_count": 4,
   "metadata": {},
   "outputs": [
    {
     "name": "stdout",
     "output_type": "stream",
     "text": [
      "Total amount of missing values: 0\n",
      "New shape: (3671, 9)\n"
     ]
    }
   ],
   "source": [
    "framingham_df = framingham_df[FRAMINGHAM[\"numeric_columns\"]]\n",
    "framingham_df.dropna(inplace=True)\n",
    "\n",
    "# Verify that there are no missing values\n",
    "print(\"Total amount of missing values:\", framingham_df.isnull().sum().sum())\n",
    "print(\"New shape:\", framingham_df.shape)"
   ]
  },
  {
   "cell_type": "markdown",
   "metadata": {},
   "source": [
    "### Start the comparison\n",
    "Using different injections severity:\n",
    "1. Inject missing values.\n",
    "2. For each missing values imputation algorithm:\n",
    "    1. Impute missing values.\n",
    "    2. Calculate metrics."
   ]
  },
  {
   "cell_type": "code",
   "execution_count": 5,
   "metadata": {},
   "outputs": [
    {
     "name": "stdout",
     "output_type": "stream",
     "text": [
      "Severity level: 0.1\n",
      "    Model: MICE\n",
      "    Model: SICE\n",
      "    Model: KNN\n",
      "{'MICE': {'RMSE': 4.308558076810392, 'MSE': 34.89766170694665, 'MAE': 0.9743387978843785, 'time': 588.463}, 'SICE': {'RMSE': 24.12231435210674, 'MSE': 1087.4109839886196, 'MAE': 7.407548654620298, 'time': 93731.35}, 'KNN': {'RMSE': 5.14836742119827, 'MSE': 46.09236215486541, 'MAE': 1.1703230442480743, 'time': 5718.277999999999}}\n",
      "Severity level: 0.2\n",
      "    Model: MICE\n",
      "    Model: SICE\n",
      "    Model: KNN\n",
      "{'MICE': {'RMSE': 6.099777051334195, 'MSE': 67.88282654369326, 'MAE': 1.9831574479528749, 'time': 577.506}, 'SICE': {'RMSE': 34.11999469840435, 'MSE': 2180.91881564212, 'MAE': 14.852310905293743, 'time': 375419.778}, 'KNN': {'RMSE': 7.544385530570079, 'MSE': 99.4515831004285, 'MAE': 2.4625968433339605, 'time': 13106.047999999999}}\n",
      "Severity level: 0.3\n",
      "    Model: MICE\n",
      "    Model: SICE\n",
      "    Model: KNN\n",
      "{'MICE': {'RMSE': 7.566520242286542, 'MSE': 102.35326547331654, 'MAE': 3.028848519948139, 'time': 1156.216}, 'SICE': {'RMSE': 41.938935775301694, 'MSE': 3312.1235206876727, 'MAE': 22.34946578286268, 'time': 876535.2679999999}, 'KNN': {'RMSE': 9.32220861292835, 'MSE': 147.62131804049554, 'MAE': 3.7780931636228536, 'time': 15785.354}}\n",
      "Severity level: 0.4\n",
      "    Model: MICE\n",
      "    Model: SICE\n",
      "    Model: KNN\n",
      "{'MICE': {'RMSE': 8.67986834173673, 'MSE': 134.97693954712338, 'MAE': 4.053747550463416, 'time': 1662.213}, 'SICE': {'RMSE': 48.274503007620524, 'MSE': 4392.941357183935, 'MAE': 29.751657132479792, 'time': 1502217.672}, 'KNN': {'RMSE': 10.044301398842789, 'MSE': 174.41177382327524, 'MAE': 4.7360430097763535, 'time': 10428.569}}\n",
      "Severity level: 0.5\n",
      "    Model: MICE\n",
      "    Model: SICE\n"
     ]
    },
    {
     "ename": "MemoryError",
     "evalue": "Unable to allocate 2.27 MiB for an array with shape (16515, 2, 9) and data type float64",
     "output_type": "error",
     "traceback": [
      "\u001b[1;31m---------------------------------------------------------------------------\u001b[0m",
      "\u001b[1;31mMemoryError\u001b[0m                               Traceback (most recent call last)",
      "Cell \u001b[1;32mIn[5], line 19\u001b[0m\n\u001b[0;32m     17\u001b[0m \u001b[38;5;66;03m# Impute missing values\u001b[39;00m\n\u001b[0;32m     18\u001b[0m start_time \u001b[38;5;241m=\u001b[39m datetime\u001b[38;5;241m.\u001b[39mnow()\n\u001b[1;32m---> 19\u001b[0m data_with_imputations \u001b[38;5;241m=\u001b[39m current_model()\u001b[38;5;241m.\u001b[39mfit_transform(data_with_missing)\n\u001b[0;32m     20\u001b[0m end_time \u001b[38;5;241m=\u001b[39m datetime\u001b[38;5;241m.\u001b[39mnow()\n\u001b[0;32m     22\u001b[0m \u001b[38;5;66;03m# Calculate metrics\u001b[39;00m\n",
      "File \u001b[1;32mc:\\Users\\t-yzelinger\\AppData\\Local\\anaconda3\\envs\\school_venv\\Lib\\site-packages\\sklearn\\utils\\_set_output.py:319\u001b[0m, in \u001b[0;36m_wrap_method_output.<locals>.wrapped\u001b[1;34m(self, X, *args, **kwargs)\u001b[0m\n\u001b[0;32m    317\u001b[0m \u001b[38;5;129m@wraps\u001b[39m(f)\n\u001b[0;32m    318\u001b[0m \u001b[38;5;28;01mdef\u001b[39;00m \u001b[38;5;21mwrapped\u001b[39m(\u001b[38;5;28mself\u001b[39m, X, \u001b[38;5;241m*\u001b[39margs, \u001b[38;5;241m*\u001b[39m\u001b[38;5;241m*\u001b[39mkwargs):\n\u001b[1;32m--> 319\u001b[0m     data_to_wrap \u001b[38;5;241m=\u001b[39m f(\u001b[38;5;28mself\u001b[39m, X, \u001b[38;5;241m*\u001b[39margs, \u001b[38;5;241m*\u001b[39m\u001b[38;5;241m*\u001b[39mkwargs)\n\u001b[0;32m    320\u001b[0m     \u001b[38;5;28;01mif\u001b[39;00m \u001b[38;5;28misinstance\u001b[39m(data_to_wrap, \u001b[38;5;28mtuple\u001b[39m):\n\u001b[0;32m    321\u001b[0m         \u001b[38;5;66;03m# only wrap the first output for cross decomposition\u001b[39;00m\n\u001b[0;32m    322\u001b[0m         return_tuple \u001b[38;5;241m=\u001b[39m (\n\u001b[0;32m    323\u001b[0m             _wrap_data_with_container(method, data_to_wrap[\u001b[38;5;241m0\u001b[39m], X, \u001b[38;5;28mself\u001b[39m),\n\u001b[0;32m    324\u001b[0m             \u001b[38;5;241m*\u001b[39mdata_to_wrap[\u001b[38;5;241m1\u001b[39m:],\n\u001b[0;32m    325\u001b[0m         )\n",
      "File \u001b[1;32mc:\\Users\\t-yzelinger\\AppData\\Local\\anaconda3\\envs\\school_venv\\Lib\\site-packages\\reparo\\SICE.py:78\u001b[0m, in \u001b[0;36mSICE.fit_transform\u001b[1;34m(self, X, y, **fit_params)\u001b[0m\n\u001b[0;32m     66\u001b[0m \u001b[38;5;28;01mdef\u001b[39;00m \u001b[38;5;21mfit_transform\u001b[39m(\u001b[38;5;28mself\u001b[39m, X, y\u001b[38;5;241m=\u001b[39m\u001b[38;5;28;01mNone\u001b[39;00m, \u001b[38;5;241m*\u001b[39m\u001b[38;5;241m*\u001b[39mfit_params):\n\u001b[0;32m     67\u001b[0m \u001b[38;5;250m    \u001b[39m\u001b[38;5;124;03m\"\"\"\u001b[39;00m\n\u001b[0;32m     68\u001b[0m \u001b[38;5;124;03m    Fits transformer to X and y with optional parameters fit_params and returns a transformed version of X.\u001b[39;00m\n\u001b[0;32m     69\u001b[0m \u001b[38;5;124;03m    :param X: np.array of shape (n_samples, n_features)\u001b[39;00m\n\u001b[1;32m   (...)\u001b[0m\n\u001b[0;32m     76\u001b[0m \u001b[38;5;124;03m        The original data, but with the missing values imputed.\u001b[39;00m\n\u001b[0;32m     77\u001b[0m \u001b[38;5;124;03m    \"\"\"\u001b[39;00m\n\u001b[1;32m---> 78\u001b[0m     \u001b[38;5;28;01mreturn\u001b[39;00m \u001b[38;5;28mself\u001b[39m\u001b[38;5;241m.\u001b[39mfit(X)\u001b[38;5;241m.\u001b[39mtransform(X)\n",
      "File \u001b[1;32mc:\\Users\\t-yzelinger\\AppData\\Local\\anaconda3\\envs\\school_venv\\Lib\\site-packages\\sklearn\\utils\\_set_output.py:319\u001b[0m, in \u001b[0;36m_wrap_method_output.<locals>.wrapped\u001b[1;34m(self, X, *args, **kwargs)\u001b[0m\n\u001b[0;32m    317\u001b[0m \u001b[38;5;129m@wraps\u001b[39m(f)\n\u001b[0;32m    318\u001b[0m \u001b[38;5;28;01mdef\u001b[39;00m \u001b[38;5;21mwrapped\u001b[39m(\u001b[38;5;28mself\u001b[39m, X, \u001b[38;5;241m*\u001b[39margs, \u001b[38;5;241m*\u001b[39m\u001b[38;5;241m*\u001b[39mkwargs):\n\u001b[1;32m--> 319\u001b[0m     data_to_wrap \u001b[38;5;241m=\u001b[39m f(\u001b[38;5;28mself\u001b[39m, X, \u001b[38;5;241m*\u001b[39margs, \u001b[38;5;241m*\u001b[39m\u001b[38;5;241m*\u001b[39mkwargs)\n\u001b[0;32m    320\u001b[0m     \u001b[38;5;28;01mif\u001b[39;00m \u001b[38;5;28misinstance\u001b[39m(data_to_wrap, \u001b[38;5;28mtuple\u001b[39m):\n\u001b[0;32m    321\u001b[0m         \u001b[38;5;66;03m# only wrap the first output for cross decomposition\u001b[39;00m\n\u001b[0;32m    322\u001b[0m         return_tuple \u001b[38;5;241m=\u001b[39m (\n\u001b[0;32m    323\u001b[0m             _wrap_data_with_container(method, data_to_wrap[\u001b[38;5;241m0\u001b[39m], X, \u001b[38;5;28mself\u001b[39m),\n\u001b[0;32m    324\u001b[0m             \u001b[38;5;241m*\u001b[39mdata_to_wrap[\u001b[38;5;241m1\u001b[39m:],\n\u001b[0;32m    325\u001b[0m         )\n",
      "File \u001b[1;32mc:\\Users\\t-yzelinger\\AppData\\Local\\anaconda3\\envs\\school_venv\\Lib\\site-packages\\reparo\\SICE.py:54\u001b[0m, in \u001b[0;36mSICE.transform\u001b[1;34m(self, X, y, **fit_params)\u001b[0m\n\u001b[0;32m     52\u001b[0m     mice_output \u001b[38;5;241m=\u001b[39m mice\u001b[38;5;241m.\u001b[39mfit_transform(X)\n\u001b[0;32m     53\u001b[0m     \u001b[38;5;28;01mfor\u001b[39;00m location \u001b[38;5;129;01min\u001b[39;00m missing_values:\n\u001b[1;32m---> 54\u001b[0m         mice_computed_values[location]\u001b[38;5;241m.\u001b[39mappend(mice_output[missing_values])\n\u001b[0;32m     56\u001b[0m X_copy \u001b[38;5;241m=\u001b[39m X\u001b[38;5;241m.\u001b[39mcopy()\n\u001b[0;32m     57\u001b[0m \u001b[38;5;28;01mfor\u001b[39;00m location \u001b[38;5;129;01min\u001b[39;00m missing_values:\n",
      "\u001b[1;31mMemoryError\u001b[0m: Unable to allocate 2.27 MiB for an array with shape (16515, 2, 9) and data type float64"
     ]
    }
   ],
   "source": [
    "import pickle\n",
    "\n",
    "original_data = framingham_df.to_numpy()\n",
    "# Severity levels\n",
    "severity_levels = [0.1, 0.2, 0.3, 0.4]\n",
    "injected_columns = list(framingham_df.columns)\n",
    "results = {}\n",
    "\n",
    "for current_severity_level in severity_levels:\n",
    "    print(\"Severity level:\", current_severity_level)\n",
    "    current_severity_results = {}\n",
    "    # Inject missing values\n",
    "    data_with_missing = inject_missing_values(framingham_df, columns=injected_columns, rows_severity=current_severity_level).to_numpy()\n",
    "\n",
    "    for current_model_name, current_model in models_dict.items():\n",
    "        print(\"    Model:\", current_model_name)\n",
    "        # Impute missing values\n",
    "        start_time = datetime.now()\n",
    "        data_with_imputations = current_model().fit_transform(data_with_missing)\n",
    "        end_time = datetime.now()\n",
    "        \n",
    "        # Calculate metrics\n",
    "        current_severity_results[current_model_name] = {metric_name: metric_func(original_data, data_with_imputations) \n",
    "                                                        for metric_name, metric_func in metrics_dict.items()}\n",
    "        current_severity_results[current_model_name][\"time\"] = (end_time - start_time).total_seconds() * 1000\n",
    "    print(current_severity_results)\n",
    "    results[current_severity_level] = current_severity_results\n",
    "    with open(\"results.pkl\", \"wb\") as f:\n",
    "        pickle.dump(results, f)\n",
    "\n",
    "results_df = pd.DataFrame(results)\n",
    "print(results_df)"
   ]
  },
  {
   "cell_type": "code",
   "execution_count": 7,
   "metadata": {},
   "outputs": [
    {
     "data": {
      "text/plain": [
       "{0.1: {'MICE': {'RMSE': 2.327087556107419,\n",
       "   'MSE': 17.785909979167933,\n",
       "   'MAE': 0.5242930092935538},\n",
       "  'KNN': {'RMSE': 2.9105594771411596,\n",
       "   'MSE': 25.441002663923186,\n",
       "   'MAE': 0.6629902287020697}},\n",
       " 0.2: {'MICE': {'RMSE': 3.3340082811231806,\n",
       "   'MSE': 35.7163372416136,\n",
       "   'MAE': 1.0757643837076727},\n",
       "  'KNN': {'RMSE': 4.476690404126753,\n",
       "   'MSE': 59.32145744282983,\n",
       "   'MAE': 1.4755357488082572}},\n",
       " 0.3: {'MICE': {'RMSE': 4.074866923273656,\n",
       "   'MSE': 52.09306411981672,\n",
       "   'MAE': 1.644564896840846},\n",
       "  'KNN': {'RMSE': 5.371500273277924,\n",
       "   'MSE': 86.35813200798657,\n",
       "   'MAE': 2.155940486613982}}}"
      ]
     },
     "execution_count": 7,
     "metadata": {},
     "output_type": "execute_result"
    }
   ],
   "source": [
    "results"
   ]
  }
 ],
 "metadata": {
  "kernelspec": {
   "display_name": "school_venv",
   "language": "python",
   "name": "python3"
  },
  "language_info": {
   "codemirror_mode": {
    "name": "ipython",
    "version": 3
   },
   "file_extension": ".py",
   "mimetype": "text/x-python",
   "name": "python",
   "nbconvert_exporter": "python",
   "pygments_lexer": "ipython3",
   "version": "3.11.8"
  }
 },
 "nbformat": 4,
 "nbformat_minor": 2
}
